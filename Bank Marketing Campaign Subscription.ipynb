{
 "cells": [
  {
   "cell_type": "code",
   "execution_count": 1,
   "id": "905180f5",
   "metadata": {},
   "outputs": [],
   "source": [
    "import numpy as np\n",
    "import pandas as pd\n",
    "import matplotlib.pyplot as plt\n",
    "import seaborn as sns\n",
    "from sklearn.linear_model import LinearRegression, LogisticRegression\n",
    "from sklearn.preprocessing import StandardScaler\n",
    "from sklearn.model_selection import train_test_split, GridSearchCV\n",
    "from sklearn.neighbors import KNeighborsClassifier\n",
    "from sklearn.metrics import confusion_matrix, accuracy_score, classification_report, f1_score\n",
    "from sklearn.tree import DecisionTreeRegressor, DecisionTreeClassifier\n",
    "from sklearn.ensemble import BaggingClassifier, RandomForestClassifier, GradientBoostingClassifier, AdaBoostClassifier\n",
    "from sklearn.feature_selection import SelectKBest, chi2"
   ]
  },
  {
   "cell_type": "code",
   "execution_count": 2,
   "id": "fbf906ba",
   "metadata": {},
   "outputs": [
    {
     "data": {
      "text/html": [
       "<div>\n",
       "<style scoped>\n",
       "    .dataframe tbody tr th:only-of-type {\n",
       "        vertical-align: middle;\n",
       "    }\n",
       "\n",
       "    .dataframe tbody tr th {\n",
       "        vertical-align: top;\n",
       "    }\n",
       "\n",
       "    .dataframe thead th {\n",
       "        text-align: right;\n",
       "    }\n",
       "</style>\n",
       "<table border=\"1\" class=\"dataframe\">\n",
       "  <thead>\n",
       "    <tr style=\"text-align: right;\">\n",
       "      <th></th>\n",
       "      <th>customer_id</th>\n",
       "      <th>age</th>\n",
       "      <th>job</th>\n",
       "      <th>marital</th>\n",
       "      <th>education</th>\n",
       "      <th>default</th>\n",
       "      <th>housing</th>\n",
       "      <th>loan</th>\n",
       "      <th>contact</th>\n",
       "      <th>month</th>\n",
       "      <th>...</th>\n",
       "      <th>campaign</th>\n",
       "      <th>pdays</th>\n",
       "      <th>previous</th>\n",
       "      <th>poutcome</th>\n",
       "      <th>emp_var_rate</th>\n",
       "      <th>cons_price_idx</th>\n",
       "      <th>cons_conf_idx</th>\n",
       "      <th>euribor3m</th>\n",
       "      <th>nr_employed</th>\n",
       "      <th>subscribed</th>\n",
       "    </tr>\n",
       "  </thead>\n",
       "  <tbody>\n",
       "    <tr>\n",
       "      <th>0</th>\n",
       "      <td>customer_id_39075</td>\n",
       "      <td>31</td>\n",
       "      <td>admin.</td>\n",
       "      <td>married</td>\n",
       "      <td>university.degree</td>\n",
       "      <td>no</td>\n",
       "      <td>no</td>\n",
       "      <td>no</td>\n",
       "      <td>cellular</td>\n",
       "      <td>dec</td>\n",
       "      <td>...</td>\n",
       "      <td>3</td>\n",
       "      <td>999</td>\n",
       "      <td>1</td>\n",
       "      <td>failure</td>\n",
       "      <td>-2.97</td>\n",
       "      <td>46.3565</td>\n",
       "      <td>-23.10</td>\n",
       "      <td>1.711</td>\n",
       "      <td>5023.5</td>\n",
       "      <td>0</td>\n",
       "    </tr>\n",
       "    <tr>\n",
       "      <th>1</th>\n",
       "      <td>customer_id_34855</td>\n",
       "      <td>31</td>\n",
       "      <td>technician</td>\n",
       "      <td>single</td>\n",
       "      <td>university.degree</td>\n",
       "      <td>no</td>\n",
       "      <td>no</td>\n",
       "      <td>no</td>\n",
       "      <td>telephone</td>\n",
       "      <td>may</td>\n",
       "      <td>...</td>\n",
       "      <td>4</td>\n",
       "      <td>999</td>\n",
       "      <td>0</td>\n",
       "      <td>nonexistent</td>\n",
       "      <td>-1.77</td>\n",
       "      <td>46.4465</td>\n",
       "      <td>-32.34</td>\n",
       "      <td>2.252</td>\n",
       "      <td>5099.1</td>\n",
       "      <td>0</td>\n",
       "    </tr>\n",
       "    <tr>\n",
       "      <th>2</th>\n",
       "      <td>customer_id_7107</td>\n",
       "      <td>47</td>\n",
       "      <td>blue-collar</td>\n",
       "      <td>married</td>\n",
       "      <td>basic.6y</td>\n",
       "      <td>unknown</td>\n",
       "      <td>yes</td>\n",
       "      <td>no</td>\n",
       "      <td>telephone</td>\n",
       "      <td>may</td>\n",
       "      <td>...</td>\n",
       "      <td>2</td>\n",
       "      <td>999</td>\n",
       "      <td>0</td>\n",
       "      <td>nonexistent</td>\n",
       "      <td>1.13</td>\n",
       "      <td>46.9970</td>\n",
       "      <td>-25.48</td>\n",
       "      <td>5.862</td>\n",
       "      <td>5191.0</td>\n",
       "      <td>0</td>\n",
       "    </tr>\n",
       "    <tr>\n",
       "      <th>3</th>\n",
       "      <td>customer_id_31614</td>\n",
       "      <td>36</td>\n",
       "      <td>services</td>\n",
       "      <td>married</td>\n",
       "      <td>university.degree</td>\n",
       "      <td>no</td>\n",
       "      <td>no</td>\n",
       "      <td>no</td>\n",
       "      <td>cellular</td>\n",
       "      <td>may</td>\n",
       "      <td>...</td>\n",
       "      <td>1</td>\n",
       "      <td>999</td>\n",
       "      <td>1</td>\n",
       "      <td>failure</td>\n",
       "      <td>-1.77</td>\n",
       "      <td>46.4465</td>\n",
       "      <td>-32.34</td>\n",
       "      <td>2.329</td>\n",
       "      <td>5099.1</td>\n",
       "      <td>0</td>\n",
       "    </tr>\n",
       "    <tr>\n",
       "      <th>4</th>\n",
       "      <td>customer_id_34878</td>\n",
       "      <td>34</td>\n",
       "      <td>admin.</td>\n",
       "      <td>single</td>\n",
       "      <td>high.school</td>\n",
       "      <td>no</td>\n",
       "      <td>no</td>\n",
       "      <td>no</td>\n",
       "      <td>cellular</td>\n",
       "      <td>may</td>\n",
       "      <td>...</td>\n",
       "      <td>9</td>\n",
       "      <td>999</td>\n",
       "      <td>0</td>\n",
       "      <td>nonexistent</td>\n",
       "      <td>-1.77</td>\n",
       "      <td>46.4465</td>\n",
       "      <td>-32.34</td>\n",
       "      <td>2.252</td>\n",
       "      <td>5099.1</td>\n",
       "      <td>0</td>\n",
       "    </tr>\n",
       "  </tbody>\n",
       "</table>\n",
       "<p>5 rows × 22 columns</p>\n",
       "</div>"
      ],
      "text/plain": [
       "         customer_id  age          job  marital          education  default  \\\n",
       "0  customer_id_39075   31       admin.  married  university.degree       no   \n",
       "1  customer_id_34855   31   technician   single  university.degree       no   \n",
       "2   customer_id_7107   47  blue-collar  married           basic.6y  unknown   \n",
       "3  customer_id_31614   36     services  married  university.degree       no   \n",
       "4  customer_id_34878   34       admin.   single        high.school       no   \n",
       "\n",
       "  housing loan    contact month  ... campaign  pdays  previous     poutcome  \\\n",
       "0      no   no   cellular   dec  ...        3    999         1      failure   \n",
       "1      no   no  telephone   may  ...        4    999         0  nonexistent   \n",
       "2     yes   no  telephone   may  ...        2    999         0  nonexistent   \n",
       "3      no   no   cellular   may  ...        1    999         1      failure   \n",
       "4      no   no   cellular   may  ...        9    999         0  nonexistent   \n",
       "\n",
       "   emp_var_rate cons_price_idx  cons_conf_idx  euribor3m  nr_employed  \\\n",
       "0         -2.97        46.3565         -23.10      1.711       5023.5   \n",
       "1         -1.77        46.4465         -32.34      2.252       5099.1   \n",
       "2          1.13        46.9970         -25.48      5.862       5191.0   \n",
       "3         -1.77        46.4465         -32.34      2.329       5099.1   \n",
       "4         -1.77        46.4465         -32.34      2.252       5099.1   \n",
       "\n",
       "   subscribed  \n",
       "0           0  \n",
       "1           0  \n",
       "2           0  \n",
       "3           0  \n",
       "4           0  \n",
       "\n",
       "[5 rows x 22 columns]"
      ]
     },
     "execution_count": 2,
     "metadata": {},
     "output_type": "execute_result"
    }
   ],
   "source": [
    "file_train = r\"C:\\Users\\user\\OneDrive - University of Lagos\\Pictures\\train.csv\\train.csv\"\n",
    "file_test = r\"C:\\Users\\user\\OneDrive - University of Lagos\\Pictures\\train.csv\\test.csv\"\n",
    "bank_sub = pd.read_csv(file_train)\n",
    "test_data = pd.read_csv(file_test)\n",
    "bank_sub.head()"
   ]
  },
  {
   "cell_type": "code",
   "execution_count": 3,
   "id": "1a44bf75",
   "metadata": {},
   "outputs": [
    {
     "name": "stdout",
     "output_type": "stream",
     "text": [
      "<class 'pandas.core.frame.DataFrame'>\n",
      "RangeIndex: 28831 entries, 0 to 28830\n",
      "Data columns (total 22 columns):\n",
      " #   Column          Non-Null Count  Dtype  \n",
      "---  ------          --------------  -----  \n",
      " 0   customer_id     28831 non-null  object \n",
      " 1   age             28831 non-null  int64  \n",
      " 2   job             28831 non-null  object \n",
      " 3   marital         28831 non-null  object \n",
      " 4   education       28831 non-null  object \n",
      " 5   default         28831 non-null  object \n",
      " 6   housing         28831 non-null  object \n",
      " 7   loan            28831 non-null  object \n",
      " 8   contact         28831 non-null  object \n",
      " 9   month           28831 non-null  object \n",
      " 10  day_of_week     28831 non-null  object \n",
      " 11  duration        28831 non-null  float64\n",
      " 12  campaign        28831 non-null  int64  \n",
      " 13  pdays           28831 non-null  int64  \n",
      " 14  previous        28831 non-null  int64  \n",
      " 15  poutcome        28831 non-null  object \n",
      " 16  emp_var_rate    28831 non-null  float64\n",
      " 17  cons_price_idx  28831 non-null  float64\n",
      " 18  cons_conf_idx   28831 non-null  float64\n",
      " 19  euribor3m       28831 non-null  float64\n",
      " 20  nr_employed     28831 non-null  float64\n",
      " 21  subscribed      28831 non-null  int64  \n",
      "dtypes: float64(6), int64(5), object(11)\n",
      "memory usage: 4.8+ MB\n"
     ]
    }
   ],
   "source": [
    "bank_sub.info()"
   ]
  },
  {
   "cell_type": "code",
   "execution_count": 4,
   "id": "edfd177f",
   "metadata": {},
   "outputs": [
    {
     "data": {
      "text/plain": [
       "customer_id       0\n",
       "age               0\n",
       "job               0\n",
       "marital           0\n",
       "education         0\n",
       "default           0\n",
       "housing           0\n",
       "loan              0\n",
       "contact           0\n",
       "month             0\n",
       "day_of_week       0\n",
       "duration          0\n",
       "campaign          0\n",
       "pdays             0\n",
       "previous          0\n",
       "poutcome          0\n",
       "emp_var_rate      0\n",
       "cons_price_idx    0\n",
       "cons_conf_idx     0\n",
       "euribor3m         0\n",
       "nr_employed       0\n",
       "subscribed        0\n",
       "dtype: int64"
      ]
     },
     "execution_count": 4,
     "metadata": {},
     "output_type": "execute_result"
    }
   ],
   "source": [
    "bank_sub.isnull().sum()"
   ]
  },
  {
   "cell_type": "code",
   "execution_count": 5,
   "id": "ae1b07d9",
   "metadata": {},
   "outputs": [
    {
     "data": {
      "text/html": [
       "<div>\n",
       "<style scoped>\n",
       "    .dataframe tbody tr th:only-of-type {\n",
       "        vertical-align: middle;\n",
       "    }\n",
       "\n",
       "    .dataframe tbody tr th {\n",
       "        vertical-align: top;\n",
       "    }\n",
       "\n",
       "    .dataframe thead th {\n",
       "        text-align: right;\n",
       "    }\n",
       "</style>\n",
       "<table border=\"1\" class=\"dataframe\">\n",
       "  <thead>\n",
       "    <tr style=\"text-align: right;\">\n",
       "      <th></th>\n",
       "      <th>age</th>\n",
       "      <th>duration</th>\n",
       "      <th>campaign</th>\n",
       "      <th>pdays</th>\n",
       "      <th>previous</th>\n",
       "      <th>emp_var_rate</th>\n",
       "      <th>cons_price_idx</th>\n",
       "      <th>cons_conf_idx</th>\n",
       "      <th>euribor3m</th>\n",
       "      <th>nr_employed</th>\n",
       "      <th>subscribed</th>\n",
       "    </tr>\n",
       "  </thead>\n",
       "  <tbody>\n",
       "    <tr>\n",
       "      <th>count</th>\n",
       "      <td>28831.000000</td>\n",
       "      <td>28831.000000</td>\n",
       "      <td>28831.000000</td>\n",
       "      <td>28831.000000</td>\n",
       "      <td>28831.000000</td>\n",
       "      <td>28831.000000</td>\n",
       "      <td>28831.000000</td>\n",
       "      <td>28831.000000</td>\n",
       "      <td>28831.000000</td>\n",
       "      <td>28831.000000</td>\n",
       "      <td>28831.000000</td>\n",
       "    </tr>\n",
       "    <tr>\n",
       "      <th>mean</th>\n",
       "      <td>42.011203</td>\n",
       "      <td>4.297919</td>\n",
       "      <td>2.575769</td>\n",
       "      <td>963.215844</td>\n",
       "      <td>0.172592</td>\n",
       "      <td>0.113202</td>\n",
       "      <td>46.788632</td>\n",
       "      <td>-28.360564</td>\n",
       "      <td>4.623599</td>\n",
       "      <td>5167.011880</td>\n",
       "      <td>0.112761</td>\n",
       "    </tr>\n",
       "    <tr>\n",
       "      <th>std</th>\n",
       "      <td>10.450128</td>\n",
       "      <td>4.336882</td>\n",
       "      <td>2.752303</td>\n",
       "      <td>185.077567</td>\n",
       "      <td>0.494338</td>\n",
       "      <td>1.570978</td>\n",
       "      <td>0.289847</td>\n",
       "      <td>3.244405</td>\n",
       "      <td>1.735202</td>\n",
       "      <td>72.542598</td>\n",
       "      <td>0.316305</td>\n",
       "    </tr>\n",
       "    <tr>\n",
       "      <th>min</th>\n",
       "      <td>19.000000</td>\n",
       "      <td>0.000000</td>\n",
       "      <td>1.000000</td>\n",
       "      <td>0.000000</td>\n",
       "      <td>0.000000</td>\n",
       "      <td>-3.370000</td>\n",
       "      <td>46.100500</td>\n",
       "      <td>-35.560000</td>\n",
       "      <td>1.636000</td>\n",
       "      <td>4963.600000</td>\n",
       "      <td>0.000000</td>\n",
       "    </tr>\n",
       "    <tr>\n",
       "      <th>25%</th>\n",
       "      <td>34.000000</td>\n",
       "      <td>1.700000</td>\n",
       "      <td>1.000000</td>\n",
       "      <td>999.000000</td>\n",
       "      <td>0.000000</td>\n",
       "      <td>-1.770000</td>\n",
       "      <td>46.537500</td>\n",
       "      <td>-29.890000</td>\n",
       "      <td>2.346000</td>\n",
       "      <td>5099.100000</td>\n",
       "      <td>0.000000</td>\n",
       "    </tr>\n",
       "    <tr>\n",
       "      <th>50%</th>\n",
       "      <td>40.000000</td>\n",
       "      <td>3.000000</td>\n",
       "      <td>2.000000</td>\n",
       "      <td>999.000000</td>\n",
       "      <td>0.000000</td>\n",
       "      <td>1.130000</td>\n",
       "      <td>46.874500</td>\n",
       "      <td>-29.260000</td>\n",
       "      <td>5.859000</td>\n",
       "      <td>5191.000000</td>\n",
       "      <td>0.000000</td>\n",
       "    </tr>\n",
       "    <tr>\n",
       "      <th>75%</th>\n",
       "      <td>49.000000</td>\n",
       "      <td>5.300000</td>\n",
       "      <td>3.000000</td>\n",
       "      <td>999.000000</td>\n",
       "      <td>0.000000</td>\n",
       "      <td>1.430000</td>\n",
       "      <td>46.997000</td>\n",
       "      <td>-25.480000</td>\n",
       "      <td>5.963000</td>\n",
       "      <td>5228.100000</td>\n",
       "      <td>0.000000</td>\n",
       "    </tr>\n",
       "    <tr>\n",
       "      <th>max</th>\n",
       "      <td>100.000000</td>\n",
       "      <td>81.966667</td>\n",
       "      <td>43.000000</td>\n",
       "      <td>999.000000</td>\n",
       "      <td>7.000000</td>\n",
       "      <td>1.430000</td>\n",
       "      <td>47.383500</td>\n",
       "      <td>-18.830000</td>\n",
       "      <td>6.047000</td>\n",
       "      <td>5228.100000</td>\n",
       "      <td>1.000000</td>\n",
       "    </tr>\n",
       "  </tbody>\n",
       "</table>\n",
       "</div>"
      ],
      "text/plain": [
       "                age      duration      campaign         pdays      previous  \\\n",
       "count  28831.000000  28831.000000  28831.000000  28831.000000  28831.000000   \n",
       "mean      42.011203      4.297919      2.575769    963.215844      0.172592   \n",
       "std       10.450128      4.336882      2.752303    185.077567      0.494338   \n",
       "min       19.000000      0.000000      1.000000      0.000000      0.000000   \n",
       "25%       34.000000      1.700000      1.000000    999.000000      0.000000   \n",
       "50%       40.000000      3.000000      2.000000    999.000000      0.000000   \n",
       "75%       49.000000      5.300000      3.000000    999.000000      0.000000   \n",
       "max      100.000000     81.966667     43.000000    999.000000      7.000000   \n",
       "\n",
       "       emp_var_rate  cons_price_idx  cons_conf_idx     euribor3m  \\\n",
       "count  28831.000000    28831.000000   28831.000000  28831.000000   \n",
       "mean       0.113202       46.788632     -28.360564      4.623599   \n",
       "std        1.570978        0.289847       3.244405      1.735202   \n",
       "min       -3.370000       46.100500     -35.560000      1.636000   \n",
       "25%       -1.770000       46.537500     -29.890000      2.346000   \n",
       "50%        1.130000       46.874500     -29.260000      5.859000   \n",
       "75%        1.430000       46.997000     -25.480000      5.963000   \n",
       "max        1.430000       47.383500     -18.830000      6.047000   \n",
       "\n",
       "        nr_employed    subscribed  \n",
       "count  28831.000000  28831.000000  \n",
       "mean    5167.011880      0.112761  \n",
       "std       72.542598      0.316305  \n",
       "min     4963.600000      0.000000  \n",
       "25%     5099.100000      0.000000  \n",
       "50%     5191.000000      0.000000  \n",
       "75%     5228.100000      0.000000  \n",
       "max     5228.100000      1.000000  "
      ]
     },
     "execution_count": 5,
     "metadata": {},
     "output_type": "execute_result"
    }
   ],
   "source": [
    "bank_sub.describe()"
   ]
  },
  {
   "cell_type": "code",
   "execution_count": 6,
   "id": "a034e121",
   "metadata": {},
   "outputs": [
    {
     "data": {
      "text/plain": [
       "Index(['customer_id', 'age', 'job', 'marital', 'education', 'default',\n",
       "       'housing', 'loan', 'contact', 'month', 'day_of_week', 'duration',\n",
       "       'campaign', 'pdays', 'previous', 'poutcome', 'emp_var_rate',\n",
       "       'cons_price_idx', 'cons_conf_idx', 'euribor3m', 'nr_employed',\n",
       "       'subscribed'],\n",
       "      dtype='object')"
      ]
     },
     "execution_count": 6,
     "metadata": {},
     "output_type": "execute_result"
    }
   ],
   "source": [
    "bank_sub.columns"
   ]
  },
  {
   "cell_type": "code",
   "execution_count": 7,
   "id": "50f09b9d",
   "metadata": {},
   "outputs": [],
   "source": [
    "cat_cols = [cols for cols in bank_sub.columns if bank_sub[cols].dtype == \"O\"]"
   ]
  },
  {
   "cell_type": "code",
   "execution_count": 8,
   "id": "fb8827ae",
   "metadata": {},
   "outputs": [
    {
     "name": "stdout",
     "output_type": "stream",
     "text": [
      "The unique values in the columns customer_id are ['customer_id_39075' 'customer_id_34855' 'customer_id_7107' ...\n",
      " 'customer_id_38158' 'customer_id_860' 'customer_id_15795']\n",
      "The unique values in the columns job are ['admin.' 'technician' 'blue-collar' 'services' 'entrepreneur'\n",
      " 'unemployed' 'housemaid' 'management' 'unknown' 'self-employed' 'retired'\n",
      " 'student']\n",
      "The unique values in the columns marital are ['married' 'single' 'divorced' 'unknown']\n",
      "The unique values in the columns education are ['university.degree' 'basic.6y' 'high.school' 'basic.4y'\n",
      " 'professional.course' 'basic.9y' 'unknown' 'illiterate']\n",
      "The unique values in the columns default are ['no' 'unknown' 'yes']\n",
      "The unique values in the columns housing are ['no' 'yes' 'unknown']\n",
      "The unique values in the columns loan are ['no' 'yes' 'unknown']\n",
      "The unique values in the columns contact are ['cellular' 'telephone']\n",
      "The unique values in the columns month are ['dec' 'may' 'nov' 'jul' 'jun' 'mar' 'aug' 'oct' 'apr' 'sep']\n",
      "The unique values in the columns day_of_week are ['mon' 'fri' 'thu' 'tue' 'wed']\n",
      "The unique values in the columns poutcome are ['failure' 'nonexistent' 'success']\n"
     ]
    }
   ],
   "source": [
    "for i in cat_cols:\n",
    "    unique_values = bank_sub[i].unique()\n",
    "    print(f\"The unique values in the columns {i} are {unique_values}\")"
   ]
  },
  {
   "cell_type": "code",
   "execution_count": 9,
   "id": "b9ae0bda",
   "metadata": {},
   "outputs": [],
   "source": [
    "train = bank_sub.copy()\n",
    "\n",
    "train = train.drop(columns = \"customer_id\")"
   ]
  },
  {
   "cell_type": "code",
   "execution_count": 10,
   "id": "d471b152",
   "metadata": {},
   "outputs": [
    {
     "data": {
      "text/html": [
       "<div>\n",
       "<style scoped>\n",
       "    .dataframe tbody tr th:only-of-type {\n",
       "        vertical-align: middle;\n",
       "    }\n",
       "\n",
       "    .dataframe tbody tr th {\n",
       "        vertical-align: top;\n",
       "    }\n",
       "\n",
       "    .dataframe thead th {\n",
       "        text-align: right;\n",
       "    }\n",
       "</style>\n",
       "<table border=\"1\" class=\"dataframe\">\n",
       "  <thead>\n",
       "    <tr style=\"text-align: right;\">\n",
       "      <th></th>\n",
       "      <th>customer_id</th>\n",
       "      <th>age</th>\n",
       "      <th>job</th>\n",
       "      <th>marital</th>\n",
       "      <th>education</th>\n",
       "      <th>default</th>\n",
       "      <th>housing</th>\n",
       "      <th>loan</th>\n",
       "      <th>contact</th>\n",
       "      <th>month</th>\n",
       "      <th>...</th>\n",
       "      <th>duration</th>\n",
       "      <th>campaign</th>\n",
       "      <th>pdays</th>\n",
       "      <th>previous</th>\n",
       "      <th>poutcome</th>\n",
       "      <th>emp_var_rate</th>\n",
       "      <th>cons_price_idx</th>\n",
       "      <th>cons_conf_idx</th>\n",
       "      <th>euribor3m</th>\n",
       "      <th>nr_employed</th>\n",
       "    </tr>\n",
       "  </thead>\n",
       "  <tbody>\n",
       "    <tr>\n",
       "      <th>0</th>\n",
       "      <td>customer_id_32884</td>\n",
       "      <td>59</td>\n",
       "      <td>technician</td>\n",
       "      <td>married</td>\n",
       "      <td>high.school</td>\n",
       "      <td>no</td>\n",
       "      <td>no</td>\n",
       "      <td>yes</td>\n",
       "      <td>cellular</td>\n",
       "      <td>may</td>\n",
       "      <td>...</td>\n",
       "      <td>6.183333</td>\n",
       "      <td>1</td>\n",
       "      <td>999</td>\n",
       "      <td>1</td>\n",
       "      <td>failure</td>\n",
       "      <td>-1.77</td>\n",
       "      <td>46.4465</td>\n",
       "      <td>-32.34</td>\n",
       "      <td>2.301</td>\n",
       "      <td>5099.1</td>\n",
       "    </tr>\n",
       "    <tr>\n",
       "      <th>1</th>\n",
       "      <td>customer_id_3169</td>\n",
       "      <td>57</td>\n",
       "      <td>unknown</td>\n",
       "      <td>married</td>\n",
       "      <td>unknown</td>\n",
       "      <td>unknown</td>\n",
       "      <td>yes</td>\n",
       "      <td>no</td>\n",
       "      <td>telephone</td>\n",
       "      <td>may</td>\n",
       "      <td>...</td>\n",
       "      <td>4.750000</td>\n",
       "      <td>2</td>\n",
       "      <td>999</td>\n",
       "      <td>0</td>\n",
       "      <td>nonexistent</td>\n",
       "      <td>1.13</td>\n",
       "      <td>46.9970</td>\n",
       "      <td>-25.48</td>\n",
       "      <td>5.862</td>\n",
       "      <td>5191.0</td>\n",
       "    </tr>\n",
       "    <tr>\n",
       "      <th>2</th>\n",
       "      <td>customer_id_32206</td>\n",
       "      <td>35</td>\n",
       "      <td>blue-collar</td>\n",
       "      <td>married</td>\n",
       "      <td>basic.9y</td>\n",
       "      <td>no</td>\n",
       "      <td>no</td>\n",
       "      <td>no</td>\n",
       "      <td>cellular</td>\n",
       "      <td>may</td>\n",
       "      <td>...</td>\n",
       "      <td>0.866667</td>\n",
       "      <td>1</td>\n",
       "      <td>999</td>\n",
       "      <td>1</td>\n",
       "      <td>failure</td>\n",
       "      <td>-1.77</td>\n",
       "      <td>46.4465</td>\n",
       "      <td>-32.34</td>\n",
       "      <td>2.315</td>\n",
       "      <td>5099.1</td>\n",
       "    </tr>\n",
       "    <tr>\n",
       "      <th>3</th>\n",
       "      <td>customer_id_9403</td>\n",
       "      <td>38</td>\n",
       "      <td>admin.</td>\n",
       "      <td>married</td>\n",
       "      <td>high.school</td>\n",
       "      <td>no</td>\n",
       "      <td>no</td>\n",
       "      <td>no</td>\n",
       "      <td>telephone</td>\n",
       "      <td>jun</td>\n",
       "      <td>...</td>\n",
       "      <td>5.916667</td>\n",
       "      <td>4</td>\n",
       "      <td>999</td>\n",
       "      <td>0</td>\n",
       "      <td>nonexistent</td>\n",
       "      <td>1.43</td>\n",
       "      <td>47.2325</td>\n",
       "      <td>-29.26</td>\n",
       "      <td>5.969</td>\n",
       "      <td>5228.1</td>\n",
       "    </tr>\n",
       "    <tr>\n",
       "      <th>4</th>\n",
       "      <td>customer_id_14020</td>\n",
       "      <td>29</td>\n",
       "      <td>housemaid</td>\n",
       "      <td>married</td>\n",
       "      <td>high.school</td>\n",
       "      <td>no</td>\n",
       "      <td>yes</td>\n",
       "      <td>no</td>\n",
       "      <td>cellular</td>\n",
       "      <td>jul</td>\n",
       "      <td>...</td>\n",
       "      <td>3.150000</td>\n",
       "      <td>2</td>\n",
       "      <td>999</td>\n",
       "      <td>0</td>\n",
       "      <td>nonexistent</td>\n",
       "      <td>1.43</td>\n",
       "      <td>46.9590</td>\n",
       "      <td>-29.89</td>\n",
       "      <td>5.965</td>\n",
       "      <td>5228.1</td>\n",
       "    </tr>\n",
       "  </tbody>\n",
       "</table>\n",
       "<p>5 rows × 21 columns</p>\n",
       "</div>"
      ],
      "text/plain": [
       "         customer_id  age          job  marital    education  default housing  \\\n",
       "0  customer_id_32884   59   technician  married  high.school       no      no   \n",
       "1   customer_id_3169   57      unknown  married      unknown  unknown     yes   \n",
       "2  customer_id_32206   35  blue-collar  married     basic.9y       no      no   \n",
       "3   customer_id_9403   38       admin.  married  high.school       no      no   \n",
       "4  customer_id_14020   29    housemaid  married  high.school       no     yes   \n",
       "\n",
       "  loan    contact month  ...  duration  campaign  pdays  previous  \\\n",
       "0  yes   cellular   may  ...  6.183333         1    999         1   \n",
       "1   no  telephone   may  ...  4.750000         2    999         0   \n",
       "2   no   cellular   may  ...  0.866667         1    999         1   \n",
       "3   no  telephone   jun  ...  5.916667         4    999         0   \n",
       "4   no   cellular   jul  ...  3.150000         2    999         0   \n",
       "\n",
       "      poutcome emp_var_rate  cons_price_idx  cons_conf_idx  euribor3m  \\\n",
       "0      failure        -1.77         46.4465         -32.34      2.301   \n",
       "1  nonexistent         1.13         46.9970         -25.48      5.862   \n",
       "2      failure        -1.77         46.4465         -32.34      2.315   \n",
       "3  nonexistent         1.43         47.2325         -29.26      5.969   \n",
       "4  nonexistent         1.43         46.9590         -29.89      5.965   \n",
       "\n",
       "   nr_employed  \n",
       "0       5099.1  \n",
       "1       5191.0  \n",
       "2       5099.1  \n",
       "3       5228.1  \n",
       "4       5228.1  \n",
       "\n",
       "[5 rows x 21 columns]"
      ]
     },
     "execution_count": 10,
     "metadata": {},
     "output_type": "execute_result"
    }
   ],
   "source": [
    "test_data.head()"
   ]
  },
  {
   "cell_type": "code",
   "execution_count": 11,
   "id": "9c4597e9",
   "metadata": {},
   "outputs": [
    {
     "name": "stdout",
     "output_type": "stream",
     "text": [
      "<class 'pandas.core.frame.DataFrame'>\n",
      "RangeIndex: 12357 entries, 0 to 12356\n",
      "Data columns (total 21 columns):\n",
      " #   Column          Non-Null Count  Dtype  \n",
      "---  ------          --------------  -----  \n",
      " 0   customer_id     12357 non-null  object \n",
      " 1   age             12357 non-null  int64  \n",
      " 2   job             12357 non-null  object \n",
      " 3   marital         12357 non-null  object \n",
      " 4   education       12357 non-null  object \n",
      " 5   default         12357 non-null  object \n",
      " 6   housing         12357 non-null  object \n",
      " 7   loan            12357 non-null  object \n",
      " 8   contact         12357 non-null  object \n",
      " 9   month           12357 non-null  object \n",
      " 10  day_of_week     12357 non-null  object \n",
      " 11  duration        12357 non-null  float64\n",
      " 12  campaign        12357 non-null  int64  \n",
      " 13  pdays           12357 non-null  int64  \n",
      " 14  previous        12357 non-null  int64  \n",
      " 15  poutcome        12357 non-null  object \n",
      " 16  emp_var_rate    12357 non-null  float64\n",
      " 17  cons_price_idx  12357 non-null  float64\n",
      " 18  cons_conf_idx   12357 non-null  float64\n",
      " 19  euribor3m       12357 non-null  float64\n",
      " 20  nr_employed     12357 non-null  float64\n",
      "dtypes: float64(6), int64(4), object(11)\n",
      "memory usage: 2.0+ MB\n"
     ]
    }
   ],
   "source": [
    "test_data.info()"
   ]
  },
  {
   "cell_type": "code",
   "execution_count": 12,
   "id": "ef360cf2",
   "metadata": {
    "scrolled": false
   },
   "outputs": [
    {
     "data": {
      "text/plain": [
       "customer_id       0\n",
       "age               0\n",
       "job               0\n",
       "marital           0\n",
       "education         0\n",
       "default           0\n",
       "housing           0\n",
       "loan              0\n",
       "contact           0\n",
       "month             0\n",
       "day_of_week       0\n",
       "duration          0\n",
       "campaign          0\n",
       "pdays             0\n",
       "previous          0\n",
       "poutcome          0\n",
       "emp_var_rate      0\n",
       "cons_price_idx    0\n",
       "cons_conf_idx     0\n",
       "euribor3m         0\n",
       "nr_employed       0\n",
       "dtype: int64"
      ]
     },
     "execution_count": 12,
     "metadata": {},
     "output_type": "execute_result"
    }
   ],
   "source": [
    "test_data.isnull().sum()"
   ]
  },
  {
   "cell_type": "code",
   "execution_count": 13,
   "id": "da8c3264",
   "metadata": {},
   "outputs": [
    {
     "data": {
      "text/html": [
       "<div>\n",
       "<style scoped>\n",
       "    .dataframe tbody tr th:only-of-type {\n",
       "        vertical-align: middle;\n",
       "    }\n",
       "\n",
       "    .dataframe tbody tr th {\n",
       "        vertical-align: top;\n",
       "    }\n",
       "\n",
       "    .dataframe thead th {\n",
       "        text-align: right;\n",
       "    }\n",
       "</style>\n",
       "<table border=\"1\" class=\"dataframe\">\n",
       "  <thead>\n",
       "    <tr style=\"text-align: right;\">\n",
       "      <th></th>\n",
       "      <th>age</th>\n",
       "      <th>duration</th>\n",
       "      <th>campaign</th>\n",
       "      <th>pdays</th>\n",
       "      <th>previous</th>\n",
       "      <th>emp_var_rate</th>\n",
       "      <th>cons_price_idx</th>\n",
       "      <th>cons_conf_idx</th>\n",
       "      <th>euribor3m</th>\n",
       "      <th>nr_employed</th>\n",
       "    </tr>\n",
       "  </thead>\n",
       "  <tbody>\n",
       "    <tr>\n",
       "      <th>count</th>\n",
       "      <td>12357.000000</td>\n",
       "      <td>12357.000000</td>\n",
       "      <td>12357.000000</td>\n",
       "      <td>12357.000000</td>\n",
       "      <td>12357.000000</td>\n",
       "      <td>12357.000000</td>\n",
       "      <td>12357.000000</td>\n",
       "      <td>12357.000000</td>\n",
       "      <td>12357.000000</td>\n",
       "      <td>12357.000000</td>\n",
       "    </tr>\n",
       "    <tr>\n",
       "      <th>mean</th>\n",
       "      <td>42.054058</td>\n",
       "      <td>4.320689</td>\n",
       "      <td>2.548515</td>\n",
       "      <td>960.747997</td>\n",
       "      <td>0.173829</td>\n",
       "      <td>0.108814</td>\n",
       "      <td>46.785966</td>\n",
       "      <td>-28.331419</td>\n",
       "      <td>4.622571</td>\n",
       "      <td>5167.091980</td>\n",
       "    </tr>\n",
       "    <tr>\n",
       "      <th>std</th>\n",
       "      <td>10.353918</td>\n",
       "      <td>4.284927</td>\n",
       "      <td>2.810921</td>\n",
       "      <td>191.116468</td>\n",
       "      <td>0.496232</td>\n",
       "      <td>1.570976</td>\n",
       "      <td>0.288424</td>\n",
       "      <td>3.228864</td>\n",
       "      <td>1.732755</td>\n",
       "      <td>71.570695</td>\n",
       "    </tr>\n",
       "    <tr>\n",
       "      <th>min</th>\n",
       "      <td>19.000000</td>\n",
       "      <td>0.016667</td>\n",
       "      <td>1.000000</td>\n",
       "      <td>0.000000</td>\n",
       "      <td>0.000000</td>\n",
       "      <td>-3.370000</td>\n",
       "      <td>46.100500</td>\n",
       "      <td>-35.560000</td>\n",
       "      <td>1.636000</td>\n",
       "      <td>4963.600000</td>\n",
       "    </tr>\n",
       "    <tr>\n",
       "      <th>25%</th>\n",
       "      <td>34.000000</td>\n",
       "      <td>1.716667</td>\n",
       "      <td>1.000000</td>\n",
       "      <td>999.000000</td>\n",
       "      <td>0.000000</td>\n",
       "      <td>-1.770000</td>\n",
       "      <td>46.537500</td>\n",
       "      <td>-29.890000</td>\n",
       "      <td>2.346000</td>\n",
       "      <td>5099.100000</td>\n",
       "    </tr>\n",
       "    <tr>\n",
       "      <th>50%</th>\n",
       "      <td>40.000000</td>\n",
       "      <td>2.983333</td>\n",
       "      <td>2.000000</td>\n",
       "      <td>999.000000</td>\n",
       "      <td>0.000000</td>\n",
       "      <td>1.130000</td>\n",
       "      <td>46.874500</td>\n",
       "      <td>-29.260000</td>\n",
       "      <td>5.859000</td>\n",
       "      <td>5191.000000</td>\n",
       "    </tr>\n",
       "    <tr>\n",
       "      <th>75%</th>\n",
       "      <td>49.000000</td>\n",
       "      <td>5.366667</td>\n",
       "      <td>3.000000</td>\n",
       "      <td>999.000000</td>\n",
       "      <td>0.000000</td>\n",
       "      <td>1.430000</td>\n",
       "      <td>46.997000</td>\n",
       "      <td>-25.480000</td>\n",
       "      <td>5.963000</td>\n",
       "      <td>5228.100000</td>\n",
       "    </tr>\n",
       "    <tr>\n",
       "      <th>max</th>\n",
       "      <td>96.000000</td>\n",
       "      <td>58.483333</td>\n",
       "      <td>56.000000</td>\n",
       "      <td>999.000000</td>\n",
       "      <td>6.000000</td>\n",
       "      <td>1.430000</td>\n",
       "      <td>47.383500</td>\n",
       "      <td>-18.830000</td>\n",
       "      <td>6.047000</td>\n",
       "      <td>5228.100000</td>\n",
       "    </tr>\n",
       "  </tbody>\n",
       "</table>\n",
       "</div>"
      ],
      "text/plain": [
       "                age      duration      campaign         pdays      previous  \\\n",
       "count  12357.000000  12357.000000  12357.000000  12357.000000  12357.000000   \n",
       "mean      42.054058      4.320689      2.548515    960.747997      0.173829   \n",
       "std       10.353918      4.284927      2.810921    191.116468      0.496232   \n",
       "min       19.000000      0.016667      1.000000      0.000000      0.000000   \n",
       "25%       34.000000      1.716667      1.000000    999.000000      0.000000   \n",
       "50%       40.000000      2.983333      2.000000    999.000000      0.000000   \n",
       "75%       49.000000      5.366667      3.000000    999.000000      0.000000   \n",
       "max       96.000000     58.483333     56.000000    999.000000      6.000000   \n",
       "\n",
       "       emp_var_rate  cons_price_idx  cons_conf_idx     euribor3m   nr_employed  \n",
       "count  12357.000000    12357.000000   12357.000000  12357.000000  12357.000000  \n",
       "mean       0.108814       46.785966     -28.331419      4.622571   5167.091980  \n",
       "std        1.570976        0.288424       3.228864      1.732755     71.570695  \n",
       "min       -3.370000       46.100500     -35.560000      1.636000   4963.600000  \n",
       "25%       -1.770000       46.537500     -29.890000      2.346000   5099.100000  \n",
       "50%        1.130000       46.874500     -29.260000      5.859000   5191.000000  \n",
       "75%        1.430000       46.997000     -25.480000      5.963000   5228.100000  \n",
       "max        1.430000       47.383500     -18.830000      6.047000   5228.100000  "
      ]
     },
     "execution_count": 13,
     "metadata": {},
     "output_type": "execute_result"
    }
   ],
   "source": [
    "test_data.describe()"
   ]
  },
  {
   "cell_type": "markdown",
   "id": "7a8bbd63",
   "metadata": {},
   "source": [
    "### Outlier Detection"
   ]
  },
  {
   "cell_type": "code",
   "execution_count": 14,
   "id": "457e7c50",
   "metadata": {},
   "outputs": [
    {
     "data": {
      "image/png": "[encoded data removed]",
      "text/plain": [
       "<Figure size 864x864 with 1 Axes>"
      ]
     },
     "metadata": {},
     "output_type": "display_data"
    },
    {
     "data": {
      "image/png": "[encoded data removed]",
      "text/plain": [
       "<Figure size 864x864 with 1 Axes>"
      ]
     },
     "metadata": {},
     "output_type": "display_data"
    }
   ],
   "source": [
    "sns.set({\"figure.figsize\":(12,12)})\n",
    "for cols in [\"duration\",\"campaign\"]:\n",
    "    sns.boxplot(x = cols, data = train)\n",
    "    plt.show()"
   ]
  },
  {
   "cell_type": "code",
   "execution_count": 15,
   "id": "de084566",
   "metadata": {},
   "outputs": [],
   "source": [
    "import warnings\n",
    "warnings.filterwarnings(\"ignore\")\n",
    "\n",
    "upper_duration = 2 * (np.percentile(train[\"duration\"],75))\n",
    "for index in np.where(train[\"duration\"] > upper_duration)[0]:\n",
    "    train[\"duration\"][index] = upper_duration"
   ]
  },
  {
   "cell_type": "code",
   "execution_count": 16,
   "id": "2c3cc1dd",
   "metadata": {},
   "outputs": [],
   "source": [
    "upper_campaign = 2 * (np.percentile(train[\"campaign\"],75))\n",
    "for index in np.where(train[\"campaign\"] > upper_duration)[0]:\n",
    "    train[\"campaign\"][index] = upper_campaign"
   ]
  },
  {
   "cell_type": "code",
   "execution_count": 17,
   "id": "7e675c86",
   "metadata": {},
   "outputs": [],
   "source": [
    "for index in np.where(test_data[\"duration\"] > upper_duration)[0]:\n",
    "    test_data[\"duration\"][index] = upper_duration\n",
    "    \n",
    "for index in np.where(test_data[\"campaign\"] > upper_duration)[0]:\n",
    "    test_data[\"campaign\"][index] = upper_campaign"
   ]
  },
  {
   "cell_type": "markdown",
   "id": "ac70ebb8",
   "metadata": {},
   "source": [
    "### Feature Engineering"
   ]
  },
  {
   "cell_type": "code",
   "execution_count": 18,
   "id": "428a41ca",
   "metadata": {},
   "outputs": [],
   "source": [
    "age_bins = [18,25,35,60,80,100]\n",
    "age_labels = [\"Budding_adult\",\"Young_adult\",\"Full_blown_adult\",\"Old_Adult\",\"Very_Old\"]\n",
    "train[\"age_group\"] = pd.cut(train[\"age\"], bins = age_bins, labels = age_labels)\n",
    "test_data[\"age_group\"] = pd.cut(test_data[\"age\"], bins = age_bins, labels = age_labels)"
   ]
  },
  {
   "cell_type": "code",
   "execution_count": 19,
   "id": "128a224e",
   "metadata": {},
   "outputs": [],
   "source": [
    "duration_bins = [0,2,5,10,15]\n",
    "duration_labels = [\"Very_Brief\",\"Brief\",\"Long\",\"Very_Long\"]\n",
    "train[\"duration_group\"] = pd.cut(train[\"duration\"], bins = duration_bins, labels = duration_labels)\n",
    "test_data[\"duration_group\"] = pd.cut(test_data[\"duration\"], bins = duration_bins, labels = duration_labels)"
   ]
  },
  {
   "cell_type": "code",
   "execution_count": 20,
   "id": "e26657f3",
   "metadata": {},
   "outputs": [],
   "source": [
    "euribor_bins = [0,2,5,10]\n",
    "euribor_labels = [\"low_int_rates\",\"medium_int_rates\",\"high_int_rates\"]\n",
    "train[\"euribor_int_rate\"] = pd.cut(train[\"euribor3m\"], bins = euribor_bins, labels = euribor_labels)\n",
    "test_data[\"euribor_int_rate\"] = pd.cut(test_data[\"euribor3m\"], bins = euribor_bins, labels = euribor_labels)"
   ]
  },
  {
   "cell_type": "code",
   "execution_count": 21,
   "id": "ddfa29c7",
   "metadata": {},
   "outputs": [],
   "source": [
    "train[\"feature_1\"] = train[\"emp_var_rate\"] * train[\"cons_price_idx\"]\n",
    "test_data[\"feature_1\"] = test_data[\"emp_var_rate\"] * test_data[\"cons_price_idx\"]\n",
    "\n",
    "train[\"feature_2\"] = train[\"emp_var_rate\"] * train[\"cons_conf_idx\"]\n",
    "test_data[\"feature_2\"] = test_data[\"emp_var_rate\"] * test_data[\"cons_conf_idx\"]\n",
    "\n",
    "train[\"feature_3\"] = train[\"cons_price_idx\"] + train[\"cons_conf_idx\"]\n",
    "test_data[\"feature_3\"] = test_data[\"cons_price_idx\"] + test_data[\"cons_conf_idx\"]"
   ]
  },
  {
   "cell_type": "code",
   "execution_count": 22,
   "id": "615b4561",
   "metadata": {},
   "outputs": [],
   "source": [
    "emp_var_bins = [-5,0,5]\n",
    "emp_var_labels = [\"bad_emp_rate\",\"good_emp_rate\"]\n",
    "train[\"emp_var_cond\"] = pd.cut(train[\"emp_var_rate\"], bins = emp_var_bins, labels = emp_var_labels)\n",
    "test_data[\"emp_var_cond\"] = pd.cut(test_data[\"emp_var_rate\"], bins = emp_var_bins, labels = emp_var_labels)"
   ]
  },
  {
   "cell_type": "code",
   "execution_count": 23,
   "id": "1c280e67",
   "metadata": {},
   "outputs": [],
   "source": [
    "train[\"feature_4\"] = train[\"cons_price_idx\"] + abs(train[\"cons_conf_idx\"])\n",
    "test_data[\"feature_4\"] = test_data[\"cons_price_idx\"] + abs(test_data[\"cons_conf_idx\"])\n",
    "\n",
    "train[\"feature_5\"] = np.mean(train[\"cons_price_idx\"] + abs(train[\"cons_conf_idx\"]))\n",
    "test_data[\"feature_5\"] = np.mean(test_data[\"cons_price_idx\"] + abs(test_data[\"cons_conf_idx\"]))"
   ]
  },
  {
   "cell_type": "code",
   "execution_count": 24,
   "id": "06f67498",
   "metadata": {},
   "outputs": [],
   "source": [
    "test_data = test_data.drop(columns = \"customer_id\")"
   ]
  },
  {
   "cell_type": "markdown",
   "id": "7b755e19",
   "metadata": {},
   "source": [
    "### Data Split and Scaling"
   ]
  },
  {
   "cell_type": "code",
   "execution_count": 25,
   "id": "58372b1a",
   "metadata": {},
   "outputs": [],
   "source": [
    "train_nofeat_eng = bank_sub.copy()\n",
    "\n",
    "train_nofeat_eng = train_nofeat_eng.drop(columns = \"customer_id\")"
   ]
  },
  {
   "cell_type": "code",
   "execution_count": 26,
   "id": "4a0923a7",
   "metadata": {},
   "outputs": [],
   "source": [
    "# Features and Targets for train data with engineered features\n",
    "Feats = train[[cols for cols in train.columns if cols != \"subscribed\"]]\n",
    "Targets = train[\"subscribed\"]\n",
    "\n",
    "\n",
    "# Features and Targets for train data without engineered features\n",
    "Feats_nofeats_eng = train_nofeat_eng[[cols for cols in train_nofeat_eng.columns if cols != \"subscribed\"]]\n",
    "Targets_nofeats_eng = train_nofeat_eng[\"subscribed\"]"
   ]
  },
  {
   "cell_type": "code",
   "execution_count": 27,
   "id": "4643e5ae",
   "metadata": {},
   "outputs": [],
   "source": [
    "new_cat_cols = [cols for cols in Feats.columns if Feats[cols].dtype == \"O\"]\n",
    "from sklearn.preprocessing import LabelEncoder\n",
    "\n",
    "encoder = LabelEncoder()\n",
    "for cols in new_cat_cols:\n",
    "    Feats[cols] = encoder.fit_transform(Feats[cols])\n",
    "#     Feats_nofeats_eng[cols] = encoder.fit_transform(Feats_nofeats_eng[cols])"
   ]
  },
  {
   "cell_type": "code",
   "execution_count": 28,
   "id": "64889437",
   "metadata": {},
   "outputs": [],
   "source": [
    "new_cat_nofeat_eng = [cols for cols in Feats_nofeats_eng.columns if Feats_nofeats_eng[cols].dtype == \"O\"]\n",
    "for cols in new_cat_nofeat_eng:\n",
    "    Feats_nofeats_eng[cols] = encoder.fit_transform(Feats_nofeats_eng[cols])"
   ]
  },
  {
   "cell_type": "code",
   "execution_count": 29,
   "id": "f9ba8759",
   "metadata": {},
   "outputs": [],
   "source": [
    "for cols in [\"age_group\",\"duration_group\",\"euribor_int_rate\",\"emp_var_cond\"]:\n",
    "    Feats[cols] = encoder.fit_transform(Feats[cols])"
   ]
  },
  {
   "cell_type": "code",
   "execution_count": 30,
   "id": "2d6d4872",
   "metadata": {},
   "outputs": [
    {
     "data": {
      "text/html": [
       "<div>\n",
       "<style scoped>\n",
       "    .dataframe tbody tr th:only-of-type {\n",
       "        vertical-align: middle;\n",
       "    }\n",
       "\n",
       "    .dataframe tbody tr th {\n",
       "        vertical-align: top;\n",
       "    }\n",
       "\n",
       "    .dataframe thead th {\n",
       "        text-align: right;\n",
       "    }\n",
       "</style>\n",
       "<table border=\"1\" class=\"dataframe\">\n",
       "  <thead>\n",
       "    <tr style=\"text-align: right;\">\n",
       "      <th></th>\n",
       "      <th>age</th>\n",
       "      <th>job</th>\n",
       "      <th>marital</th>\n",
       "      <th>education</th>\n",
       "      <th>default</th>\n",
       "      <th>housing</th>\n",
       "      <th>loan</th>\n",
       "      <th>contact</th>\n",
       "      <th>month</th>\n",
       "      <th>day_of_week</th>\n",
       "      <th>...</th>\n",
       "      <th>nr_employed</th>\n",
       "      <th>age_group</th>\n",
       "      <th>duration_group</th>\n",
       "      <th>euribor_int_rate</th>\n",
       "      <th>feature_1</th>\n",
       "      <th>feature_2</th>\n",
       "      <th>feature_3</th>\n",
       "      <th>emp_var_cond</th>\n",
       "      <th>feature_4</th>\n",
       "      <th>feature_5</th>\n",
       "    </tr>\n",
       "  </thead>\n",
       "  <tbody>\n",
       "    <tr>\n",
       "      <th>0</th>\n",
       "      <td>31</td>\n",
       "      <td>0</td>\n",
       "      <td>1</td>\n",
       "      <td>6</td>\n",
       "      <td>0</td>\n",
       "      <td>0</td>\n",
       "      <td>0</td>\n",
       "      <td>0</td>\n",
       "      <td>2</td>\n",
       "      <td>1</td>\n",
       "      <td>...</td>\n",
       "      <td>5023.5</td>\n",
       "      <td>4</td>\n",
       "      <td>2</td>\n",
       "      <td>1</td>\n",
       "      <td>-137.678805</td>\n",
       "      <td>68.6070</td>\n",
       "      <td>23.2565</td>\n",
       "      <td>0</td>\n",
       "      <td>69.4565</td>\n",
       "      <td>75.149196</td>\n",
       "    </tr>\n",
       "    <tr>\n",
       "      <th>1</th>\n",
       "      <td>31</td>\n",
       "      <td>9</td>\n",
       "      <td>2</td>\n",
       "      <td>6</td>\n",
       "      <td>0</td>\n",
       "      <td>0</td>\n",
       "      <td>0</td>\n",
       "      <td>1</td>\n",
       "      <td>6</td>\n",
       "      <td>0</td>\n",
       "      <td>...</td>\n",
       "      <td>5099.1</td>\n",
       "      <td>4</td>\n",
       "      <td>2</td>\n",
       "      <td>2</td>\n",
       "      <td>-82.210305</td>\n",
       "      <td>57.2418</td>\n",
       "      <td>14.1065</td>\n",
       "      <td>0</td>\n",
       "      <td>78.7865</td>\n",
       "      <td>75.149196</td>\n",
       "    </tr>\n",
       "    <tr>\n",
       "      <th>2</th>\n",
       "      <td>47</td>\n",
       "      <td>1</td>\n",
       "      <td>1</td>\n",
       "      <td>1</td>\n",
       "      <td>1</td>\n",
       "      <td>2</td>\n",
       "      <td>0</td>\n",
       "      <td>1</td>\n",
       "      <td>6</td>\n",
       "      <td>2</td>\n",
       "      <td>...</td>\n",
       "      <td>5191.0</td>\n",
       "      <td>1</td>\n",
       "      <td>0</td>\n",
       "      <td>0</td>\n",
       "      <td>53.106610</td>\n",
       "      <td>-28.7924</td>\n",
       "      <td>21.5170</td>\n",
       "      <td>1</td>\n",
       "      <td>72.4770</td>\n",
       "      <td>75.149196</td>\n",
       "    </tr>\n",
       "    <tr>\n",
       "      <th>3</th>\n",
       "      <td>36</td>\n",
       "      <td>7</td>\n",
       "      <td>1</td>\n",
       "      <td>6</td>\n",
       "      <td>0</td>\n",
       "      <td>0</td>\n",
       "      <td>0</td>\n",
       "      <td>0</td>\n",
       "      <td>6</td>\n",
       "      <td>2</td>\n",
       "      <td>...</td>\n",
       "      <td>5099.1</td>\n",
       "      <td>1</td>\n",
       "      <td>2</td>\n",
       "      <td>2</td>\n",
       "      <td>-82.210305</td>\n",
       "      <td>57.2418</td>\n",
       "      <td>14.1065</td>\n",
       "      <td>0</td>\n",
       "      <td>78.7865</td>\n",
       "      <td>75.149196</td>\n",
       "    </tr>\n",
       "    <tr>\n",
       "      <th>4</th>\n",
       "      <td>34</td>\n",
       "      <td>0</td>\n",
       "      <td>2</td>\n",
       "      <td>3</td>\n",
       "      <td>0</td>\n",
       "      <td>0</td>\n",
       "      <td>0</td>\n",
       "      <td>0</td>\n",
       "      <td>6</td>\n",
       "      <td>0</td>\n",
       "      <td>...</td>\n",
       "      <td>5099.1</td>\n",
       "      <td>4</td>\n",
       "      <td>3</td>\n",
       "      <td>2</td>\n",
       "      <td>-82.210305</td>\n",
       "      <td>57.2418</td>\n",
       "      <td>14.1065</td>\n",
       "      <td>0</td>\n",
       "      <td>78.7865</td>\n",
       "      <td>75.149196</td>\n",
       "    </tr>\n",
       "  </tbody>\n",
       "</table>\n",
       "<p>5 rows × 29 columns</p>\n",
       "</div>"
      ],
      "text/plain": [
       "   age  job  marital  education  default  housing  loan  contact  month  \\\n",
       "0   31    0        1          6        0        0     0        0      2   \n",
       "1   31    9        2          6        0        0     0        1      6   \n",
       "2   47    1        1          1        1        2     0        1      6   \n",
       "3   36    7        1          6        0        0     0        0      6   \n",
       "4   34    0        2          3        0        0     0        0      6   \n",
       "\n",
       "   day_of_week  ...  nr_employed  age_group  duration_group  euribor_int_rate  \\\n",
       "0            1  ...       5023.5          4               2                 1   \n",
       "1            0  ...       5099.1          4               2                 2   \n",
       "2            2  ...       5191.0          1               0                 0   \n",
       "3            2  ...       5099.1          1               2                 2   \n",
       "4            0  ...       5099.1          4               3                 2   \n",
       "\n",
       "    feature_1  feature_2  feature_3  emp_var_cond  feature_4  feature_5  \n",
       "0 -137.678805    68.6070    23.2565             0    69.4565  75.149196  \n",
       "1  -82.210305    57.2418    14.1065             0    78.7865  75.149196  \n",
       "2   53.106610   -28.7924    21.5170             1    72.4770  75.149196  \n",
       "3  -82.210305    57.2418    14.1065             0    78.7865  75.149196  \n",
       "4  -82.210305    57.2418    14.1065             0    78.7865  75.149196  \n",
       "\n",
       "[5 rows x 29 columns]"
      ]
     },
     "execution_count": 30,
     "metadata": {},
     "output_type": "execute_result"
    }
   ],
   "source": [
    "Feats.head()"
   ]
  },
  {
   "cell_type": "code",
   "execution_count": 31,
   "id": "1120ff25",
   "metadata": {},
   "outputs": [],
   "source": [
    "from sklearn.preprocessing import RobustScaler\n",
    "scaler = RobustScaler(with_centering = True, with_scaling = True, quantile_range = (25.0,75.0))\n",
    "scaled_feats = pd.DataFrame(scaler.fit_transform(Feats), columns = Feats.columns)\n",
    "\n",
    "scaled_nofeats_eng = pd.DataFrame(scaler.fit_transform(Feats_nofeats_eng), columns = Feats_nofeats_eng.columns)"
   ]
  },
  {
   "cell_type": "code",
   "execution_count": 32,
   "id": "0bff1dbd",
   "metadata": {},
   "outputs": [],
   "source": [
    "from sklearn.model_selection import train_test_split\n",
    "\n",
    "# Training data with feature engineering without scaling\n",
    "X_train, X_test, y_train, y_test = train_test_split(Feats, Targets, test_size = 0.2, random_state = 0)\n",
    "\n",
    "# Training data scaled and with feature engineering\n",
    "X_train_scaled, X_test_scaled, y_train_scaled, y_test_scaled = train_test_split(scaled_feats, Targets,test_size = 0.2,\n",
    "                                                                               random_state = 0)\n",
    "\n",
    "# Training data without feature engineering without scaling\n",
    "X_train_1, X_test_1, y_train_1, y_test_1 = train_test_split(Feats_nofeats_eng, Targets, test_size = 0.2, random_state = 0)\n",
    "\n",
    "# Training data scaled and without feature engineering\n",
    "X_train_scaled_1, X_test_scaled_1, y_train_scaled_1, y_test_scaled_1 = train_test_split(scaled_nofeats_eng, \n",
    "                                                                                        Targets,test_size = 0.2,\n",
    "                                                                                       random_state = 0)"
   ]
  },
  {
   "cell_type": "markdown",
   "id": "c8f14441",
   "metadata": {},
   "source": [
    "### Building Base Model"
   ]
  },
  {
   "cell_type": "code",
   "execution_count": 33,
   "id": "b7ceb029",
   "metadata": {},
   "outputs": [
    {
     "data": {
      "text/plain": [
       "0    25580\n",
       "1     3251\n",
       "Name: subscribed, dtype: int64"
      ]
     },
     "execution_count": 33,
     "metadata": {},
     "output_type": "execute_result"
    }
   ],
   "source": [
    "Targets.value_counts()\n",
    "\n",
    "# With this result, oversampling will be required and f1_score will be chosen as a choice metric"
   ]
  },
  {
   "cell_type": "code",
   "execution_count": 34,
   "id": "08a1bf75",
   "metadata": {},
   "outputs": [
    {
     "name": "stdout",
     "output_type": "stream",
     "text": [
      "              precision    recall  f1-score   support\n",
      "\n",
      "           0       0.91      0.99      0.95      5097\n",
      "           1       0.81      0.23      0.36       670\n",
      "\n",
      "    accuracy                           0.90      5767\n",
      "   macro avg       0.86      0.61      0.65      5767\n",
      "weighted avg       0.90      0.90      0.88      5767\n",
      " \n",
      "\n",
      "[[5060   37]\n",
      " [ 516  154]] \n",
      "\n",
      "0.35772357723577236\n"
     ]
    }
   ],
   "source": [
    "base_model_1 = RandomForestClassifier(max_depth = 4, n_estimators = 200, n_jobs = -1, random_state = 10)\n",
    "base_model_1.fit(X_train,y_train)\n",
    "pred_1 = base_model_1.predict(X_test)\n",
    "accuracy_score(y_test,pred_1)\n",
    "\n",
    "print(classification_report(y_test,pred_1), \"\\n\")\n",
    "print(confusion_matrix(y_test,pred_1),\"\\n\")\n",
    "print(f1_score(y_test,pred_1))"
   ]
  },
  {
   "cell_type": "code",
   "execution_count": 35,
   "id": "989f6724",
   "metadata": {},
   "outputs": [
    {
     "name": "stdout",
     "output_type": "stream",
     "text": [
      "              precision    recall  f1-score   support\n",
      "\n",
      "           0       0.91      0.99      0.95      5097\n",
      "           1       0.81      0.23      0.36       670\n",
      "\n",
      "    accuracy                           0.90      5767\n",
      "   macro avg       0.86      0.61      0.65      5767\n",
      "weighted avg       0.90      0.90      0.88      5767\n",
      " \n",
      "\n",
      "[[5060   37]\n",
      " [ 516  154]] \n",
      "\n",
      "0.35772357723577236\n"
     ]
    }
   ],
   "source": [
    "base_model_2 = RandomForestClassifier(max_depth = 4, n_estimators = 200, n_jobs = -1, random_state = 10)\n",
    "base_model_2.fit(X_train_scaled,y_train_scaled)\n",
    "pred_2 = base_model_2.predict(X_test_scaled)\n",
    "accuracy_score(y_test_scaled,pred_2)\n",
    "\n",
    "print(classification_report(y_test_scaled,pred_2), \"\\n\")\n",
    "print(confusion_matrix(y_test_scaled,pred_2),\"\\n\")\n",
    "print(f1_score(y_test_scaled,pred_2))\n",
    "\n",
    "# No effect in scaled and unscaled data"
   ]
  },
  {
   "cell_type": "code",
   "execution_count": 36,
   "id": "1328ad92",
   "metadata": {},
   "outputs": [
    {
     "name": "stdout",
     "output_type": "stream",
     "text": [
      "              precision    recall  f1-score   support\n",
      "\n",
      "           0       0.91      0.99      0.95      5097\n",
      "           1       0.80      0.23      0.35       670\n",
      "\n",
      "    accuracy                           0.90      5767\n",
      "   macro avg       0.86      0.61      0.65      5767\n",
      "weighted avg       0.89      0.90      0.88      5767\n",
      " \n",
      "\n",
      "[[5060   37]\n",
      " [ 519  151]] \n",
      "\n",
      "0.351981351981352\n"
     ]
    }
   ],
   "source": [
    "base_model_3 = RandomForestClassifier(max_depth = 4, n_estimators = 200, n_jobs = -1, random_state = 10)\n",
    "base_model_3.fit(X_train_1,y_train_1)\n",
    "pred_3 = base_model_3.predict(X_test_1)\n",
    "accuracy_score(y_test_1,pred_3)\n",
    "\n",
    "print(classification_report(y_test_1,pred_3), \"\\n\")\n",
    "print(confusion_matrix(y_test_1,pred_3),\"\\n\")\n",
    "print(f1_score(y_test_1,pred_3))\n",
    "\n",
    "# Visible effect in model accuracy with engineered features and without engineered features"
   ]
  },
  {
   "cell_type": "code",
   "execution_count": 37,
   "id": "cc09874f",
   "metadata": {},
   "outputs": [
    {
     "name": "stdout",
     "output_type": "stream",
     "text": [
      "              precision    recall  f1-score   support\n",
      "\n",
      "           0       0.91      0.99      0.95      5097\n",
      "           1       0.80      0.23      0.35       670\n",
      "\n",
      "    accuracy                           0.90      5767\n",
      "   macro avg       0.86      0.61      0.65      5767\n",
      "weighted avg       0.89      0.90      0.88      5767\n",
      " \n",
      "\n",
      "[[5060   37]\n",
      " [ 519  151]] \n",
      "\n",
      "0.351981351981352\n"
     ]
    }
   ],
   "source": [
    "base_model_4 = RandomForestClassifier(max_depth = 4, n_estimators = 200, n_jobs = -1, random_state = 10)\n",
    "base_model_4.fit(X_train_scaled_1,y_train_scaled_1)\n",
    "pred_4 = base_model_4.predict(X_test_scaled_1)\n",
    "accuracy_score(y_test_scaled_1,pred_4)\n",
    "\n",
    "print(classification_report(y_test_scaled_1,pred_4), \"\\n\")\n",
    "print(confusion_matrix(y_test_scaled_1,pred_4),\"\\n\")\n",
    "print(f1_score(y_test_scaled_1,pred_4))\n",
    "\n",
    "# Visible effect in model accuracy with engineered features and without engineered features"
   ]
  },
  {
   "cell_type": "code",
   "execution_count": 38,
   "id": "eca4c4f0",
   "metadata": {},
   "outputs": [],
   "source": [
    "# I wanted to experiment the effect of scaling and feature engineering on the model accuracy, \n",
    "# although no effect was seen in the case of scaling, as I used a model that was robust to scale of feature values,\n",
    "# hence doesn't require scaling but a significant effect was noticed with training set with engineered features."
   ]
  },
  {
   "cell_type": "markdown",
   "id": "1ec5ff1b",
   "metadata": {},
   "source": [
    "### Dealing with Class Imbalance"
   ]
  },
  {
   "cell_type": "code",
   "execution_count": 39,
   "id": "da3bc2a1",
   "metadata": {},
   "outputs": [],
   "source": [
    "from imblearn.over_sampling import RandomOverSampler, SMOTE\n",
    "from imblearn.under_sampling import TomekLinks\n",
    "from imblearn.combine import SMOTETomek"
   ]
  },
  {
   "cell_type": "code",
   "execution_count": 40,
   "id": "9acc3393",
   "metadata": {},
   "outputs": [],
   "source": [
    "smote_tomek = SMOTETomek(smote = SMOTE(0.82, random_state = 0), tomek = TomekLinks(\"majority\"), \n",
    "                         n_jobs = -1, random_state = 0)\n",
    "train_data_bal, train_target_bal = smote_tomek.fit_resample(X_train, y_train)"
   ]
  },
  {
   "cell_type": "code",
   "execution_count": 41,
   "id": "2c41992c",
   "metadata": {},
   "outputs": [
    {
     "name": "stdout",
     "output_type": "stream",
     "text": [
      "              precision    recall  f1-score   support\n",
      "\n",
      "           0       0.95      0.94      0.94      5097\n",
      "           1       0.57      0.64      0.60       670\n",
      "\n",
      "    accuracy                           0.90      5767\n",
      "   macro avg       0.76      0.79      0.77      5767\n",
      "weighted avg       0.91      0.90      0.90      5767\n",
      " \n",
      "\n",
      "[[4775  322]\n",
      " [ 242  428]] \n",
      "\n",
      "0.6028169014084508\n"
     ]
    }
   ],
   "source": [
    "import xgboost as XGB\n",
    "\n",
    "xgb_base = XGB.XGBClassifier(eval_metric = \"error\", random_state = 0)\n",
    "xgb_base.fit(train_data_bal, train_target_bal)\n",
    "xgb_base_pred = xgb_base.predict(X_test)\n",
    "\n",
    "print(classification_report(y_test,xgb_base_pred), \"\\n\")\n",
    "print(confusion_matrix(y_test,xgb_base_pred),\"\\n\")\n",
    "print(f1_score(y_test,xgb_base_pred))"
   ]
  },
  {
   "cell_type": "code",
   "execution_count": 144,
   "id": "2aad99a1",
   "metadata": {},
   "outputs": [
    {
     "data": {
      "text/plain": [
       "XGBRegressor(base_score=0.5, booster='gbtree', colsample_bylevel=1,\n",
       "             colsample_bynode=1, colsample_bytree=1, enable_categorical=False,\n",
       "             gamma=0, gpu_id=-1, importance_type=None,\n",
       "             interaction_constraints='', learning_rate=0.03, max_delta_step=0,\n",
       "             max_depth=3, min_child_weight=1, missing=nan,\n",
       "             monotone_constraints='()', n_estimators=500, n_jobs=4,\n",
       "             num_parallel_tree=1, predictor='auto', random_state=0, reg_alpha=0,\n",
       "             reg_lambda=1, scale_pos_weight=1, subsample=1, tree_method='exact',\n",
       "             validate_parameters=1, verbosity=None)"
      ]
     },
     "execution_count": 144,
     "metadata": {},
     "output_type": "execute_result"
    }
   ],
   "source": [
    "parameters = {'learning_rate': np.arange(0.03,0.05,0.01),\n",
    "              'max_depth': range (3, 6),\n",
    "              'n_estimators': range(400,600,50)}\n",
    "\n",
    "from sklearn.model_selection import RandomizedSearchCV, GridSearchCV\n",
    "tuned_xgb = RandomizedSearchCV(XGB.XGBRegressor(random_state = 0), \n",
    "                               param_distributions = parameters, cv = 10 , n_jobs = -1, scoring = \"f1\")\n",
    "tuned_xgb.fit(X_train, y_train)\n",
    "tuned_xgb.best_estimator_"
   ]
  },
  {
   "cell_type": "code",
   "execution_count": 42,
   "id": "f5bdd61b",
   "metadata": {},
   "outputs": [],
   "source": [
    "from sklearn.model_selection import KFold, StratifiedKFold\n",
    "xgb_acc_list = []\n",
    "skf = StratifiedKFold(n_splits = 10, shuffle = True, random_state = 0)\n",
    "\n",
    "for train_index, test_index in skf.split(Feats, Targets):\n",
    "    \n",
    "    X_train_skf, X_test_skf = Feats.loc[train_index], Feats.loc[test_index]\n",
    "    y_train_skf, y_test_skf = Targets.loc[train_index], Targets.loc[test_index]\n",
    "    \n",
    "    smote_tomek = SMOTETomek(smote = SMOTE(0.82, random_state = 0), tomek = TomekLinks(\"majority\"), \n",
    "                         n_jobs = -1, random_state = 0)\n",
    "    train_data_bal, train_target_bal = smote_tomek.fit_resample(X_train_skf, y_train_skf)\n",
    "    \n",
    "    xgboost = XGB.XGBClassifier(n_estimators = 500, max_depth = 3, learning_rate = 0.03, n_jobs = -1, random_state = 0,\n",
    "                               eval_metric = \"merror\")\n",
    "    \n",
    "    xgboost.fit(train_data_bal, train_target_bal)\n",
    "    xgboost_pred = xgboost.predict(X_test_skf)\n",
    "\n",
    "    xgb_acc_list.append(f1_score(y_test_skf, xgboost_pred))"
   ]
  },
  {
   "cell_type": "code",
   "execution_count": 43,
   "id": "7b9fbeb8",
   "metadata": {},
   "outputs": [
    {
     "name": "stdout",
     "output_type": "stream",
     "text": [
      "              precision    recall  f1-score   support\n",
      "\n",
      "           0       0.98      0.90      0.94      2558\n",
      "           1       0.52      0.85      0.64       325\n",
      "\n",
      "    accuracy                           0.89      2883\n",
      "   macro avg       0.75      0.87      0.79      2883\n",
      "weighted avg       0.93      0.89      0.90      2883\n",
      "\n"
     ]
    }
   ],
   "source": [
    "print(classification_report(y_test_skf, xgboost_pred))"
   ]
  },
  {
   "cell_type": "code",
   "execution_count": 44,
   "id": "d3388fc6",
   "metadata": {},
   "outputs": [
    {
     "name": "stdout",
     "output_type": "stream",
     "text": [
      "              precision    recall  f1-score   support\n",
      "\n",
      "           0       0.98      0.90      0.94      5097\n",
      "           1       0.52      0.83      0.64       670\n",
      "\n",
      "    accuracy                           0.89      5767\n",
      "   macro avg       0.75      0.86      0.79      5767\n",
      "weighted avg       0.92      0.89      0.90      5767\n",
      "\n"
     ]
    }
   ],
   "source": [
    "print(classification_report(y_test, xgboost.predict(X_test)))"
   ]
  },
  {
   "cell_type": "markdown",
   "id": "90b4b7cc",
   "metadata": {},
   "source": [
    "### LGBM CLassifier"
   ]
  },
  {
   "cell_type": "code",
   "execution_count": 45,
   "id": "3ac9f70f",
   "metadata": {},
   "outputs": [],
   "source": [
    "smote_tomek = SMOTETomek(smote = SMOTE(0.85, random_state = 0), tomek = TomekLinks(\"majority\"), \n",
    "                         n_jobs = -1, random_state = 0)\n",
    "train_data_lgbm, train_target_lgbm = smote_tomek.fit_resample(X_train, y_train)\n",
    "\n",
    "# I tested various values for smote oversampler to achieve a 0.85 sampling strategy"
   ]
  },
  {
   "cell_type": "code",
   "execution_count": 46,
   "id": "81bfac5c",
   "metadata": {},
   "outputs": [
    {
     "name": "stdout",
     "output_type": "stream",
     "text": [
      "              precision    recall  f1-score   support\n",
      "\n",
      "           0       0.96      0.92      0.94      5097\n",
      "           1       0.55      0.73      0.63       670\n",
      "\n",
      "    accuracy                           0.90      5767\n",
      "   macro avg       0.76      0.83      0.79      5767\n",
      "weighted avg       0.92      0.90      0.91      5767\n",
      " \n",
      "\n",
      "[[4703  394]\n",
      " [ 182  488]] \n",
      "\n",
      "0.6288659793814433\n"
     ]
    }
   ],
   "source": [
    "import lightgbm as LGBM\n",
    "\n",
    "lgbm_base = LGBM.LGBMClassifier(random_state = 0)\n",
    "lgbm_base.fit(train_data_lgbm, train_target_lgbm)\n",
    "lgbm_base_pred = lgbm_base.predict(X_test)\n",
    "\n",
    "print(classification_report(y_test,lgbm_base_pred), \"\\n\")\n",
    "print(confusion_matrix(y_test,lgbm_base_pred),\"\\n\")\n",
    "print(f1_score(y_test,lgbm_base_pred))"
   ]
  },
  {
   "cell_type": "code",
   "execution_count": null,
   "id": "864546e5",
   "metadata": {},
   "outputs": [],
   "source": []
  },
  {
   "cell_type": "code",
   "execution_count": 47,
   "id": "4c695449",
   "metadata": {},
   "outputs": [],
   "source": [
    "lgbm_parameters = {'learning_rate': np.arange(0.1,0.2,0.01),\n",
    "                  'max_depth': range (8, 11, 1),\n",
    "                  'num_leaves' : range(29,35),\n",
    "                  'n_estimators': range(600,800,50)}"
   ]
  },
  {
   "cell_type": "code",
   "execution_count": 199,
   "id": "0daf6dd3",
   "metadata": {},
   "outputs": [
    {
     "data": {
      "text/plain": [
       "LGBMClassifier(learning_rate=0.15999999999999998, max_depth=8, n_estimators=700,\n",
       "               num_leaves=33, random_state=0)"
      ]
     },
     "execution_count": 199,
     "metadata": {},
     "output_type": "execute_result"
    }
   ],
   "source": [
    "from sklearn.model_selection import RandomizedSearchCV, GridSearchCV\n",
    "tuned_lgbm = RandomizedSearchCV(LGBM.LGBMClassifier(random_state = 0),param_distributions = lgbm_parameters, \n",
    "                                cv = 10 , n_jobs = -1, scoring = \"f1\")\n",
    "tuned_lgbm.fit(train_data_lgbm, train_target_lgbm)\n",
    "tuned_lgbm.best_estimator_"
   ]
  },
  {
   "cell_type": "code",
   "execution_count": 48,
   "id": "19143034",
   "metadata": {},
   "outputs": [],
   "source": [
    "lgbm_acc_list = []\n",
    "  \n",
    "for train_index, test_index in skf.split(Feats, Targets):\n",
    "    X_train_skf, X_test_skf = Feats.loc[train_index], Feats.loc[test_index]\n",
    "    y_train_skf, y_test_skf = Targets.loc[train_index], Targets.loc[test_index]\n",
    "    \n",
    "    smote_tomek = SMOTETomek(smote = SMOTE(0.85, random_state = 0), tomek = TomekLinks(\"majority\"), \n",
    "                         n_jobs = -1, random_state = 0)\n",
    "    train_data_lb, train_target_lb = smote_tomek.fit_resample(X_train_skf, y_train_skf)\n",
    "    \n",
    "    light_gbm = LGBM.LGBMClassifier(n_estimators = 700, max_depth = 8, learning_rate = 0.16, n_jobs = -1, random_state = 0,\n",
    "                              num_leaves = 33, boosting_type = \"gbdt\")\n",
    "    \n",
    "    light_gbm.fit(train_data_lb, train_target_lb)\n",
    "    lgbm_pred = light_gbm.predict(X_test_skf)\n",
    "\n",
    "    lgbm_acc_list.append(accuracy_score(y_test_skf, lgbm_pred))"
   ]
  },
  {
   "cell_type": "code",
   "execution_count": 52,
   "id": "ad2f76a5",
   "metadata": {},
   "outputs": [
    {
     "data": {
      "text/plain": [
       "0.9055182034625474"
      ]
     },
     "execution_count": 52,
     "metadata": {},
     "output_type": "execute_result"
    }
   ],
   "source": [
    "np.mean(lgbm_acc_list)"
   ]
  },
  {
   "cell_type": "code",
   "execution_count": 51,
   "id": "e586b273",
   "metadata": {},
   "outputs": [
    {
     "name": "stdout",
     "output_type": "stream",
     "text": [
      "              precision    recall  f1-score   support\n",
      "\n",
      "           0       0.95      0.95      0.95      2558\n",
      "           1       0.60      0.63      0.61       325\n",
      "\n",
      "    accuracy                           0.91      2883\n",
      "   macro avg       0.78      0.79      0.78      2883\n",
      "weighted avg       0.91      0.91      0.91      2883\n",
      "\n"
     ]
    }
   ],
   "source": [
    "print(classification_report(y_test_skf, light_gbm.predict(X_test_skf)))"
   ]
  },
  {
   "cell_type": "code",
   "execution_count": 50,
   "id": "0116d00f",
   "metadata": {},
   "outputs": [
    {
     "name": "stdout",
     "output_type": "stream",
     "text": [
      "[[5054   43]\n",
      " [  27  643]]\n"
     ]
    }
   ],
   "source": [
    "print(confusion_matrix(y_test, light_gbm.predict(X_test)))"
   ]
  },
  {
   "cell_type": "markdown",
   "id": "f68208ee",
   "metadata": {},
   "source": [
    "### Submission"
   ]
  },
  {
   "cell_type": "code",
   "execution_count": 60,
   "id": "bc00c8db",
   "metadata": {},
   "outputs": [],
   "source": [
    "for cols in new_cat_cols:\n",
    "    test_data[cols] = encoder.fit_transform(test_data[cols])\n",
    "    \n",
    "for cols in [\"age_group\",\"duration_group\",\"euribor_int_rate\",\"emp_var_cond\"]:\n",
    "    test_data[cols] = encoder.fit_transform(test_data[cols])"
   ]
  },
  {
   "cell_type": "code",
   "execution_count": 58,
   "id": "16da34ce",
   "metadata": {},
   "outputs": [
    {
     "data": {
      "text/html": [
       "<div>\n",
       "<style scoped>\n",
       "    .dataframe tbody tr th:only-of-type {\n",
       "        vertical-align: middle;\n",
       "    }\n",
       "\n",
       "    .dataframe tbody tr th {\n",
       "        vertical-align: top;\n",
       "    }\n",
       "\n",
       "    .dataframe thead th {\n",
       "        text-align: right;\n",
       "    }\n",
       "</style>\n",
       "<table border=\"1\" class=\"dataframe\">\n",
       "  <thead>\n",
       "    <tr style=\"text-align: right;\">\n",
       "      <th></th>\n",
       "      <th>customer_id</th>\n",
       "      <th>subscribed</th>\n",
       "    </tr>\n",
       "  </thead>\n",
       "  <tbody>\n",
       "    <tr>\n",
       "      <th>0</th>\n",
       "      <td>customer_id_32884</td>\n",
       "      <td>1</td>\n",
       "    </tr>\n",
       "    <tr>\n",
       "      <th>1</th>\n",
       "      <td>customer_id_3169</td>\n",
       "      <td>1</td>\n",
       "    </tr>\n",
       "    <tr>\n",
       "      <th>2</th>\n",
       "      <td>customer_id_32206</td>\n",
       "      <td>1</td>\n",
       "    </tr>\n",
       "    <tr>\n",
       "      <th>3</th>\n",
       "      <td>customer_id_9403</td>\n",
       "      <td>1</td>\n",
       "    </tr>\n",
       "    <tr>\n",
       "      <th>4</th>\n",
       "      <td>customer_id_14020</td>\n",
       "      <td>1</td>\n",
       "    </tr>\n",
       "  </tbody>\n",
       "</table>\n",
       "</div>"
      ],
      "text/plain": [
       "         customer_id  subscribed\n",
       "0  customer_id_32884           1\n",
       "1   customer_id_3169           1\n",
       "2  customer_id_32206           1\n",
       "3   customer_id_9403           1\n",
       "4  customer_id_14020           1"
      ]
     },
     "execution_count": 58,
     "metadata": {},
     "output_type": "execute_result"
    }
   ],
   "source": [
    "sample = pd.read_csv(r\"C:\\Users\\user\\OneDrive - University of Lagos\\Pictures\\train.csv\\sample_submission.csv\")\n",
    "sample.head()"
   ]
  },
  {
   "cell_type": "code",
   "execution_count": 61,
   "id": "94bad01c",
   "metadata": {},
   "outputs": [],
   "source": [
    "sample[\"Prediction\"] = light_gbm.predict(test_data)\n",
    "del sample[\"subscribed\"]"
   ]
  },
  {
   "cell_type": "code",
   "execution_count": 62,
   "id": "19a78246",
   "metadata": {},
   "outputs": [],
   "source": [
    "sample.to_csv(\"Bank_Subscription_submission.csv\", index = False)"
   ]
  },
  {
   "cell_type": "code",
   "execution_count": 63,
   "id": "4b11aa3a",
   "metadata": {},
   "outputs": [],
   "source": [
    "sample.rename(columns = {\"Prediction\":\"subscribed\"}, inplace = True)"
   ]
  },
  {
   "cell_type": "code",
   "execution_count": 64,
   "id": "47d22237",
   "metadata": {},
   "outputs": [],
   "source": [
    "sample.to_csv(\"Bank_Subscription_submission1.csv\", index = False)"
   ]
  },
  {
   "cell_type": "code",
   "execution_count": null,
   "id": "5cb940c8",
   "metadata": {},
   "outputs": [],
   "source": []
  },
  {
   "cell_type": "markdown",
   "id": "d4c7343f",
   "metadata": {},
   "source": [
    "### Saving Model to Pickle"
   ]
  },
  {
   "cell_type": "code",
   "execution_count": 65,
   "id": "262b1edc",
   "metadata": {},
   "outputs": [],
   "source": [
    "import pickle\n",
    "filename = 'Bank_Subscription.pkl'\n",
    "pickle.dump(light_gbm, open(filename, 'wb'))"
   ]
  },
  {
   "cell_type": "code",
   "execution_count": null,
   "id": "d5234a77",
   "metadata": {},
   "outputs": [],
   "source": []
  }
 ],
 "metadata": {
  "kernelspec": {
   "display_name": "Python 3",
   "language": "python",
   "name": "python3"
  },
  "language_info": {
   "codemirror_mode": {
    "name": "ipython",
    "version": 3
   },
   "file_extension": ".py",
   "mimetype": "text/x-python",
   "name": "python",
   "nbconvert_exporter": "python",
   "pygments_lexer": "ipython3",
   "version": "3.8.8"
  }
 },
 "nbformat": 4,
 "nbformat_minor": 5
}
